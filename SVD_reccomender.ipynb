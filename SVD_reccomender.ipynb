{
 "cells": [
  {
   "cell_type": "code",
   "execution_count": 2,
   "id": "6e14741e",
   "metadata": {},
   "outputs": [],
   "source": [
    "import numpy as np "
   ]
  },
  {
   "cell_type": "code",
   "execution_count": 3,
   "id": "46d01143",
   "metadata": {},
   "outputs": [],
   "source": [
    "def calcSVD(M):\n",
    "    #-----U-------------\n",
    "    t = M.transpose() \n",
    "    # transpose M\n",
    "    MMT = np.dot(M,t)\n",
    "    #multiply M * M^T \n",
    "    # # I picked dot because speed is more important in building a reccomendation system. \n",
    "    eigenvalues_MMT, eigenvectors_MMT = np.linalg.eig(MMT)\n",
    "    # find the eigenvalues and vectors\n",
    "    b_MMT = np.argsort(eigenvalues_MMT)[::-1]\n",
    "    # argsort returns the indices of the sorted array \n",
    "    # sort it in descending order. \n",
    "    U = eigenvectors_MMT[:,b_MMT]\n",
    "    # then, switch the first and second columns \n",
    "\n",
    "    #-------V-------------\n",
    "    MTM = np.dot(t,M)\n",
    "    eigenvalues_MTM, eigenvectors_MTM = np.linalg.eig(MTM)\n",
    "    b_MTM= np.argsort(eigenvalues_MTM)[::-1]\n",
    "    V_T = eigenvectors_MTM[:,b_MTM].transpose() \n",
    "\n",
    "    #--------S------------\n",
    "    # We want to use the smaller matrix, MMT or MTM\n",
    "    if np.size(MMT)> np.size(MTM): \n",
    "        eigenvalues = np.sqrt(eigenvalues_MTM)\n",
    "        S = eigenvalues[::-1]\n",
    "    else: \n",
    "        eigenvalues = np.sqrt(eigenvalues_MMT)\n",
    "        S = eigenvalues[::-1]\n",
    "    \n",
    "    return S, V_T, U "
   ]
  },
  {
   "cell_type": "code",
   "execution_count": 4,
   "id": "2119a55d",
   "metadata": {},
   "outputs": [],
   "source": [
    "import pandas as pd"
   ]
  },
  {
   "cell_type": "code",
   "execution_count": 5,
   "id": "abb822b1",
   "metadata": {},
   "outputs": [],
   "source": [
    "A = pd.read_csv('PCA_data.csv')\n",
    "# This is the cleaned, and reduced data. Dimensionality reduction is very important because we want the computation of the reccomender system to be faster. "
   ]
  },
  {
   "cell_type": "code",
   "execution_count": 6,
   "id": "ee34ec24",
   "metadata": {},
   "outputs": [],
   "source": [
    "A = np.array(A)"
   ]
  },
  {
   "cell_type": "code",
   "execution_count": 7,
   "id": "8be52df1",
   "metadata": {},
   "outputs": [
    {
     "data": {
      "text/plain": [
       "(113999, 10)"
      ]
     },
     "execution_count": 7,
     "metadata": {},
     "output_type": "execute_result"
    }
   ],
   "source": [
    "A.shape"
   ]
  },
  {
   "cell_type": "code",
   "execution_count": 8,
   "id": "64075afb",
   "metadata": {},
   "outputs": [],
   "source": [
    "A = A[:3999]\n",
    "# reduced the rows that we use for computation reasons. "
   ]
  },
  {
   "cell_type": "code",
   "execution_count": 9,
   "id": "2c3f12b4",
   "metadata": {},
   "outputs": [],
   "source": [
    "#Calling the corresponding Fuctions and saving the values in variables \n",
    "Sigma, Vt,U  = calcSVD(A)"
   ]
  },
  {
   "cell_type": "code",
   "execution_count": 10,
   "id": "dee863d8",
   "metadata": {},
   "outputs": [
    {
     "name": "stdout",
     "output_type": "stream",
     "text": [
      "-------------------U-------------------\n",
      "[[ 3.36764531e-02+0.j         -8.54643989e-03+0.j\n",
      "   2.16050679e-02+0.j         ... -8.10162558e-03-0.00239078j\n",
      "  -8.10162558e-03+0.00239078j -2.85495115e-05+0.j        ]\n",
      " [ 2.94368637e-02+0.j         -4.22278738e-03+0.j\n",
      "   1.46561339e-02+0.j         ... -1.41153240e-02-0.00437852j\n",
      "  -1.41153240e-02+0.00437852j  5.43240688e-03+0.j        ]\n",
      " [ 4.88951963e-02+0.j          1.60272884e-02+0.j\n",
      "  -6.49300557e-03+0.j         ... -3.15920354e-02-0.00196867j\n",
      "  -3.15920354e-02+0.00196867j  4.86560615e-02+0.j        ]\n",
      " ...\n",
      " [-1.06463628e-03+0.j          7.80483455e-03+0.j\n",
      "  -1.21839366e-02+0.j         ...  1.54115713e-02+0.01183537j\n",
      "   1.54115713e-02-0.01183537j -6.97570926e-03+0.j        ]\n",
      " [ 9.49483571e-03+0.j         -1.09350905e-02+0.j\n",
      "   5.92620882e-03+0.j         ... -9.02248793e-03-0.00919082j\n",
      "  -9.02248793e-03+0.00919082j  5.08381617e-03+0.j        ]\n",
      " [-3.01078970e-03+0.j         -4.16914745e-03+0.j\n",
      "  -3.16149523e-02+0.j         ... -1.42260246e-03+0.00019465j\n",
      "  -1.42260246e-03-0.00019465j  7.86634918e-04+0.j        ]]\n",
      "\n",
      "--------------Sigma----------------\n",
      "[48.11256864 49.57600525 42.18944751 55.99380681 36.66432477 31.86429616\n",
      " 63.91942029 65.61916043 66.04339953 83.44677078]\n",
      "\n",
      "-------------V transpose---------------\n",
      "[[-0.21842991  0.01445255 -0.32949941 -0.70225116  0.38440552  0.03611963\n",
      "   0.13500199 -0.04358155  0.4147361   0.09565455]\n",
      " [-0.28124532 -0.10398088  0.06347477 -0.39798016 -0.67748281  0.00508419\n",
      "  -0.0840336  -0.28738331 -0.04084314 -0.44423418]\n",
      " [-0.12704355 -0.12910402 -0.25374802  0.20803154  0.0129101  -0.51941762\n",
      "  -0.36700305  0.42042302  0.37148715 -0.37432088]\n",
      " [ 0.13523284  0.10776308 -0.4842017  -0.08288703  0.08925889  0.51403458\n",
      "  -0.52224245  0.13969744 -0.35543596 -0.19491453]\n",
      " [ 0.14053258  0.60299966  0.04107457 -0.20680969 -0.22301673 -0.01842208\n",
      "   0.36861338  0.59825656 -0.07909583 -0.14854601]\n",
      " [-0.34680995  0.3961202   0.49906197 -0.13826846  0.42179098 -0.19993847\n",
      "  -0.3603741  -0.10245297 -0.26305003 -0.16488235]\n",
      " [-0.0898462  -0.13001624  0.00750064 -0.28677601 -0.29108483 -0.27199241\n",
      "  -0.34218678  0.28497411 -0.2465413   0.68915296]\n",
      " [-0.24698272  0.60859909 -0.42770684  0.29445189 -0.20303768 -0.14447288\n",
      "  -0.04979172 -0.39497855  0.12520515  0.25042226]\n",
      " [-0.4181406  -0.22154454 -0.35898785  0.07751191  0.16035771 -0.23757413\n",
      "   0.4262211   0.05535484 -0.60136389 -0.112574  ]\n",
      " [ 0.67440385  0.06164015 -0.16109037 -0.24792905  0.0761725  -0.52252731\n",
      "  -0.01742526 -0.33249151 -0.22008962 -0.12581849]]\n"
     ]
    }
   ],
   "source": [
    "print(\"-------------------U-------------------\")\n",
    "print(U)\n",
    "print(\"\\n--------------Sigma----------------\")\n",
    "print(Sigma)\n",
    "print(\"\\n-------------V transpose---------------\")\n",
    "print(Vt)"
   ]
  },
  {
   "cell_type": "code",
   "execution_count": 30,
   "id": "e3456489",
   "metadata": {},
   "outputs": [],
   "source": [
    "def cosine_similarity(v,u):\n",
    "    return (v @ u)/ (np.linalg.norm(v) * np.linalg.norm(u))\n",
    "# multiply v and u together and divide by the norm of v and u "
   ]
  },
  {
   "cell_type": "code",
   "execution_count": 67,
   "id": "6f7ed25e",
   "metadata": {},
   "outputs": [
    {
     "data": {
      "text/plain": [
       "(3999, 3999)"
      ]
     },
     "execution_count": 67,
     "metadata": {},
     "output_type": "execute_result"
    }
   ],
   "source": [
    "U.shape"
   ]
  },
  {
   "cell_type": "code",
   "execution_count": 60,
   "id": "0eaa20ba",
   "metadata": {},
   "outputs": [],
   "source": [
    "\n",
    "# we want to find the rows of the data that are most similar to a given song. Thus, we will use the matrix U to find songs that are most similar. \n",
    "# Id is the index of the row that we are trying to find songs most similar to. \n",
    "# will generate top 3 highest song choices. \n",
    "def find_reccs(id=0):\n",
    "    highest_similarity = float('-inf')\n",
    "    second_similarity = float('-inf')\n",
    "    third_similarity = float('-inf')\n",
    "    highest_sim_col = -1\n",
    "    second_row = -1 \n",
    "    third_row = -1  \n",
    "    for r in range(0,U.shape[1]):\n",
    "        if r!= id: \n",
    "            similarity = cosine_similarity(U[:,id], U[:,r])\n",
    "            # find the cosine similarity between the row I am working on and the row I am iteratinf through\n",
    "            if similarity > highest_similarity:\n",
    "                highest_similarity = similarity\n",
    "                highest_sim_col = r\n",
    "            if similarity > second_similarity and similarity != highest_similarity: \n",
    "                second_similarity = similarity\n",
    "                second_row = r \n",
    "            if similarity > third_similarity and similarity != highest_similarity and similarity != second_similarity: \n",
    "                third_similarity = similarity\n",
    "                third_row = r \n",
    "    return highest_sim_col,second_row,third_row"
   ]
  },
  {
   "cell_type": "code",
   "execution_count": 61,
   "id": "d8f8c8f6",
   "metadata": {},
   "outputs": [],
   "source": [
    "a,b,c = find_reccs(3)"
   ]
  },
  {
   "cell_type": "code",
   "execution_count": 62,
   "id": "e278c62c",
   "metadata": {},
   "outputs": [
    {
     "data": {
      "text/plain": [
       "(7, 3819, 103)"
      ]
     },
     "execution_count": 62,
     "metadata": {},
     "output_type": "execute_result"
    }
   ],
   "source": [
    "a,b,c"
   ]
  },
  {
   "cell_type": "code",
   "execution_count": 63,
   "id": "d0fa5c71",
   "metadata": {},
   "outputs": [],
   "source": [
    "data = pd.read_csv('dataset.csv')"
   ]
  },
  {
   "cell_type": "code",
   "execution_count": 64,
   "id": "f94ca2ee",
   "metadata": {},
   "outputs": [
    {
     "name": "stdout",
     "output_type": "stream",
     "text": [
      "The top 3 songs that I reccommend are most similar to: Can't Help Falling In Love\n",
      "1:  I'm Yours by:  Jason Mraz\n",
      "2:  I Wish I Missed My Ex by:  Mahalia\n",
      "3:  Mirrors by:  Boyce Avenue;Fifth Harmony\n"
     ]
    }
   ],
   "source": [
    "print('The top 3 songs that I recommend are most similar to:', data.loc[3]['track_name'])\n",
    "print('1: ',data.loc[a]['track_name'],'by: ',data.loc[a]['artists'])\n",
    "print('2: ',data.loc[b]['track_name'],'by: ',data.loc[b]['artists'])\n",
    "print('3: ',data.loc[c]['track_name'],'by: ',data.loc[c]['artists'])\n"
   ]
  },
  {
   "cell_type": "code",
   "execution_count": null,
   "id": "e82bd764",
   "metadata": {},
   "outputs": [],
   "source": []
  },
  {
   "cell_type": "code",
   "execution_count": null,
   "id": "3ae363f1",
   "metadata": {},
   "outputs": [],
   "source": []
  },
  {
   "cell_type": "code",
   "execution_count": null,
   "id": "64d0a516",
   "metadata": {},
   "outputs": [],
   "source": []
  },
  {
   "cell_type": "code",
   "execution_count": null,
   "id": "77aaa4e8",
   "metadata": {},
   "outputs": [],
   "source": []
  },
  {
   "cell_type": "code",
   "execution_count": null,
   "id": "41ef9211",
   "metadata": {},
   "outputs": [],
   "source": []
  },
  {
   "cell_type": "code",
   "execution_count": null,
   "id": "61a51fbf",
   "metadata": {},
   "outputs": [],
   "source": []
  },
  {
   "cell_type": "code",
   "execution_count": null,
   "id": "2a7518b6",
   "metadata": {},
   "outputs": [],
   "source": []
  }
 ],
 "metadata": {
  "kernelspec": {
   "display_name": "Python 3 (ipykernel)",
   "language": "python",
   "name": "python3"
  },
  "language_info": {
   "codemirror_mode": {
    "name": "ipython",
    "version": 3
   },
   "file_extension": ".py",
   "mimetype": "text/x-python",
   "name": "python",
   "nbconvert_exporter": "python",
   "pygments_lexer": "ipython3",
   "version": "3.8.16"
  },
  "toc": {
   "base_numbering": 1,
   "nav_menu": {},
   "number_sections": true,
   "sideBar": true,
   "skip_h1_title": false,
   "title_cell": "Table of Contents",
   "title_sidebar": "Contents",
   "toc_cell": false,
   "toc_position": {},
   "toc_section_display": true,
   "toc_window_display": false
  }
 },
 "nbformat": 4,
 "nbformat_minor": 5
}
